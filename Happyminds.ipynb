{
  "nbformat": 4,
  "nbformat_minor": 0,
  "metadata": {
    "colab": {
      "name": "Happyminds.ipynb",
      "provenance": [],
      "collapsed_sections": [],
      "authorship_tag": "ABX9TyPGSRkpJx+BXazQI2FZ1hx3",
      "include_colab_link": true
    },
    "kernelspec": {
      "name": "python3",
      "display_name": "Python 3"
    }
  },
  "cells": [
    {
      "cell_type": "markdown",
      "metadata": {
        "id": "view-in-github",
        "colab_type": "text"
      },
      "source": [
        "<a href=\"https://colab.research.google.com/github/ManjunathaAdithya/Scrapping-Data/blob/main/Happyminds.ipynb\" target=\"_parent\"><img src=\"https://colab.research.google.com/assets/colab-badge.svg\" alt=\"Open In Colab\"/></a>"
      ]
    },
    {
      "cell_type": "code",
      "metadata": {
        "id": "vM7xd8YIt_c7"
      },
      "source": [
        "import requests\n",
        "import pandas as pd\n",
        "from bs4 import BeautifulSoup"
      ],
      "execution_count": 1,
      "outputs": []
    },
    {
      "cell_type": "code",
      "metadata": {
        "id": "x-4-0so5uKeM",
        "outputId": "fd99d490-5486-4210-97d5-3b146ec691c1",
        "colab": {
          "base_uri": "https://localhost:8080/"
        }
      },
      "source": [
        "URL = 'https://www.happiestminds.com/news-and-events/press-releases/'\n",
        "page = requests.get(URL)\n",
        "page"
      ],
      "execution_count": 4,
      "outputs": [
        {
          "output_type": "execute_result",
          "data": {
            "text/plain": [
              "<Response [200]>"
            ]
          },
          "metadata": {
            "tags": []
          },
          "execution_count": 4
        }
      ]
    },
    {
      "cell_type": "code",
      "metadata": {
        "id": "idXCKkXEu9vM"
      },
      "source": [
        "soup = BeautifulSoup(page.text, 'html.parser')\n",
        "soup"
      ],
      "execution_count": null,
      "outputs": []
    },
    {
      "cell_type": "code",
      "metadata": {
        "id": "Saiea7QHvKKU",
        "outputId": "1299e560-171d-4dc6-9b29-459061047b36",
        "colab": {
          "base_uri": "https://localhost:8080/"
        }
      },
      "source": [
        "links = soup.find_all('p', attrs={'class':'box_title'})\n",
        "links"
      ],
      "execution_count": 8,
      "outputs": [
        {
          "output_type": "execute_result",
          "data": {
            "text/plain": [
              "[<p class=\"box_title\"><a href=\"https://www.happiestminds.com/press-releases/happiest-minds-partners-io-tahoe-deliver-smartdata-single-enterprise-data-automation-platform/\">Happiest Minds Partners with Io-Tahoe to Deliver SmartData with a Single Enterprise Data Automation Platform</a></p>,\n",
              " <p class=\"box_title\"><a href=\"https://www.happiestminds.com/press-releases/autonomiq-happiest-minds-partner-offer-autonomous-testing-solutions-accelerate-digital-transformation/\">AutonomIQ and Happiest Minds Partner to Offer Autonomous Testing Solutions to Accelerate Digital Transformation</a></p>,\n",
              " <p class=\"box_title\"><a href=\"https://www.happiestminds.com/press-releases/happiest-minds-announces-appointments-executive-vice-chairman-managing-director/\">Happiest Minds announces appointments of Executive Vice Chairman and Managing Director</a></p>,\n",
              " <p class=\"box_title\"><a href=\"https://www.happiestminds.com/press-releases/happiest-minds-reports-robust-results-post-successful-ipo-ebitda-margin-expands-26-3/\">Happiest Minds reports robust results post successful IPO. EBITDA margin expands to 26.3%</a></p>,\n",
              " <p class=\"box_title\"><a href=\"https://www.happiestminds.com/press-releases/ipo-smilestone-happiest-minds-contributes-total-2-million-meals-akshaya-patra-foundation/\">With IPO Smilestone, Happiest Minds contributes a total of 2 million meals to the Akshaya Patra Foundation</a></p>,\n",
              " <p class=\"box_title\"><a href=\"https://www.happiestminds.com/press-releases/happiest-minds-partners-lakeside-software-deliver-workplace-analytics-services/\">Happiest Minds partners with Lakeside Software to deliver Workplace Analytics Services</a></p>,\n",
              " <p class=\"box_title\"><a href=\"https://www.happiestminds.com/press-releases/veridify-security-welcomes-happiest-minds-systems-integrator-partner/\">Veridify Security Welcomes Happiest Minds as Systems Integrator Partner</a></p>,\n",
              " <p class=\"box_title\"><a href=\"https://www.happiestminds.com/press-releases/happiest-minds-contributes-inr-32-lacs-towards-covid-19-relief-including-125k-meals-towards-akshaya-patra/\">Happiest Minds Contributes INR 32 Lacs Towards COVID-19 Relief Including 125K Meals Towards Akshaya Patra</a></p>,\n",
              " <p class=\"box_title\"><a href=\"https://www.happiestminds.com/press-releases/happiest-minds-2019s-top-25-indias-best-workplaces-bpm/\">Happiest Minds is 2019’s Top 25 India’s Best Workplaces in IT &amp; IT-BPM</a></p>,\n",
              " <p class=\"box_title\"><a href=\"https://www.happiestminds.com/press-releases/happiest-minds-first-company-globally-position-born-digital-born-agile/\">Happiest Minds is the first company globally to position itself as “Born Digital . Born Agile”</a></p>]"
            ]
          },
          "metadata": {
            "tags": []
          },
          "execution_count": 8
        }
      ]
    },
    {
      "cell_type": "code",
      "metadata": {
        "id": "0VRT8pdZwd58",
        "outputId": "d4479dc0-f58f-44db-c6eb-a99a0ae2ee8c",
        "colab": {
          "base_uri": "https://localhost:8080/"
        }
      },
      "source": [
        "for i in links:\n",
        "  print(i.text)"
      ],
      "execution_count": 10,
      "outputs": [
        {
          "output_type": "stream",
          "text": [
            "Happiest Minds Partners with Io-Tahoe to Deliver SmartData with a Single Enterprise Data Automation Platform\n",
            "AutonomIQ and Happiest Minds Partner to Offer Autonomous Testing Solutions to Accelerate Digital Transformation\n",
            "Happiest Minds announces appointments of Executive Vice Chairman and Managing Director\n",
            "Happiest Minds reports robust results post successful IPO. EBITDA margin expands to 26.3%\n",
            "With IPO Smilestone, Happiest Minds contributes a total of 2 million meals to the Akshaya Patra Foundation\n",
            "Happiest Minds partners with Lakeside Software to deliver Workplace Analytics Services\n",
            "Veridify Security Welcomes Happiest Minds as Systems Integrator Partner\n",
            "Happiest Minds Contributes INR 32 Lacs Towards COVID-19 Relief Including 125K Meals Towards Akshaya Patra\n",
            "Happiest Minds is 2019’s Top 25 India’s Best Workplaces in IT & IT-BPM\n",
            "Happiest Minds is the first company globally to position itself as “Born Digital . Born Agile”\n"
          ],
          "name": "stdout"
        }
      ]
    }
  ]
}